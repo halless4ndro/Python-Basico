{
  "nbformat": 4,
  "nbformat_minor": 0,
  "metadata": {
    "colab": {
      "name": "Fase2.ipynb",
      "provenance": [],
      "include_colab_link": true
    },
    "kernelspec": {
      "name": "python3",
      "display_name": "Python 3"
    }
  },
  "cells": [
    {
      "cell_type": "markdown",
      "metadata": {
        "id": "view-in-github",
        "colab_type": "text"
      },
      "source": [
        "<a href=\"https://colab.research.google.com/github/halless4ndro/Python-Basico/blob/master/Fase2.ipynb\" target=\"_parent\"><img src=\"https://colab.research.google.com/assets/colab-badge.svg\" alt=\"Open In Colab\"/></a>"
      ]
    },
    {
      "cell_type": "markdown",
      "metadata": {
        "id": "CYNAmoj4zSXl",
        "colab_type": "text"
      },
      "source": [
        "Fase 2\n",
        "\n",
        "Nesta fase, utilize print(), input(), operadores aritméticos e condicionais apenas.\n",
        "\n",
        " Crie um algoritmo em Python que peça 2 números e imprima o maior deles."
      ]
    },
    {
      "cell_type": "code",
      "metadata": {
        "id": "ViAfpy3GzPN-",
        "colab_type": "code",
        "colab": {
          "base_uri": "https://localhost:8080/",
          "height": 66
        },
        "outputId": "9eef36ef-b9ef-44d5-8bfb-34ff2cff7979"
      },
      "source": [
        "x=float(input(\"Digite um número \"))\n",
        "y=float(input(\"Digite outro número \"))\n",
        "if x>y:\n",
        "  print(f\"O maior número é {x}\")\n",
        "else:\n",
        "  print(f\"O maior número é {y}\")\n",
        "\n",
        "\n",
        "\n",
        "\n"
      ],
      "execution_count": 2,
      "outputs": [
        {
          "output_type": "stream",
          "text": [
            "Digite um número 1.9\n",
            "Digite outro número 1.8\n",
            "O maior número é 1.9\n"
          ],
          "name": "stdout"
        }
      ]
    },
    {
      "cell_type": "markdown",
      "metadata": {
        "id": "gdMis92izSmQ",
        "colab_type": "text"
      },
      "source": [
        "Crie um algoritmo em Python que peça um valor e mostre na tela se o valor é positivo ou negativo."
      ]
    },
    {
      "cell_type": "code",
      "metadata": {
        "id": "BFpWkdCBz_zh",
        "colab_type": "code",
        "colab": {
          "base_uri": "https://localhost:8080/",
          "height": 50
        },
        "outputId": "c267e4c1-b4c6-41f1-e024-ea922089de2e"
      },
      "source": [
        "x=float(input(\"Digite um número \"))\n",
        "if x>=0:\n",
        "  print(\"O número é positivo\")\n",
        "else:\n",
        "  print(\"O valor é negativo\")\n",
        "\n"
      ],
      "execution_count": 4,
      "outputs": [
        {
          "output_type": "stream",
          "text": [
            "Digite um número -1.3\n",
            "O valor é negativo\n"
          ],
          "name": "stdout"
        }
      ]
    },
    {
      "cell_type": "markdown",
      "metadata": {
        "id": "E_0l_Vx6zSo2",
        "colab_type": "text"
      },
      "source": [
        "Crie um algoritmo em Python que verifique se uma letra digitada é vogal ou consoante."
      ]
    },
    {
      "cell_type": "code",
      "metadata": {
        "id": "KwJf7XZS0AZW",
        "colab_type": "code",
        "colab": {
          "base_uri": "https://localhost:8080/",
          "height": 50
        },
        "outputId": "45b14dff-2d57-4358-ad51-9e0864d12604"
      },
      "source": [
        "letra=input(\"Digite uma letra \")\n",
        "if letra==\"A\" or letra==\"E\" or letra==\"I\" or letra==\"O\" or letra==\"U\" or letra==\"a\" or letra==\"e\" or letra==\"i\" or letra==\"o\" or letra==\"u\":\n",
        "  print(\"É vogal\")\n",
        "else:\n",
        "  print(\"É consoante\")\n"
      ],
      "execution_count": 7,
      "outputs": [
        {
          "output_type": "stream",
          "text": [
            "Digite uma letra z\n",
            "É consoante\n"
          ],
          "name": "stdout"
        }
      ]
    },
    {
      "cell_type": "markdown",
      "metadata": {
        "id": "1i4VCiiczSrL",
        "colab_type": "text"
      },
      "source": [
        "Faça um programa para a leitura de duas notas parciais de um aluno. O programa deve calcular a média alcançada por aluno e apresentar:\n",
        "* \"Aprovado\", se a média alcançada for maior ou igual a sete;\n",
        "* \"Reprovado\", se a média for menor do que sete;\n",
        "* \"Aprovado com Distinção\", se a média for igual a 10."
      ]
    },
    {
      "cell_type": "code",
      "metadata": {
        "id": "yoW67hjA0BHy",
        "colab_type": "code",
        "colab": {
          "base_uri": "https://localhost:8080/",
          "height": 66
        },
        "outputId": "0bece076-469e-4bb8-b0c4-b37366db71f1"
      },
      "source": [
        "nota1=float(input(\"Digite nota 1: \"))\n",
        "nota2=float(input(\"Digite nota 2: \"))\n",
        "media=(nota1+nota2)/2\n",
        "resultado=\"\"\n",
        "if media<7:\n",
        "  resultado=\"Reprovado\"\n",
        "elif media>=7 and media<10:\n",
        "  resultado=\"Aprovado\"\n",
        "else:\n",
        "  resultado=\"Aprovado com distinção\"\n",
        "print(f\"Média do aluno igual a {media:.2f} - {resultado}\")\n",
        "\n",
        "\n"
      ],
      "execution_count": 11,
      "outputs": [
        {
          "output_type": "stream",
          "text": [
            "Digite nota 1: 8\n",
            "Digite nota 2: 8\n",
            "Média do aluno igual a 8.00 - Aprovado\n"
          ],
          "name": "stdout"
        }
      ]
    },
    {
      "cell_type": "markdown",
      "metadata": {
        "id": "4ep7kezvzStO",
        "colab_type": "text"
      },
      "source": [
        "Crie um algoritmo em Python que leia três números e mostre o maior deles."
      ]
    },
    {
      "cell_type": "code",
      "metadata": {
        "id": "6K6IHWdr0Blt",
        "colab_type": "code",
        "colab": {
          "base_uri": "https://localhost:8080/",
          "height": 82
        },
        "outputId": "58c00438-6305-4799-bdbc-bcc8caa0affa"
      },
      "source": [
        "x=float(input(\"Digite um número: \"))\n",
        "y=float(input(\"Digite outro número: \"))\n",
        "z=float(input(\"Digite mais um número: \"))\n",
        "if x>y and x>z:\n",
        "  print(f\"{x} é o maior entre os números\")\n",
        "elif y>x and y>z:\n",
        "  print(f\"{y} é o maior entre os números\")\n",
        "else:\n",
        "  print(f\"{z} é o maior entre os números\")\n",
        "\n",
        "\n"
      ],
      "execution_count": 14,
      "outputs": [
        {
          "output_type": "stream",
          "text": [
            "Digite um número 0\n",
            "Digite outro número 5\n",
            "Digite mais um número 10\n",
            "10.0 é o maior entre os números\n"
          ],
          "name": "stdout"
        }
      ]
    },
    {
      "cell_type": "markdown",
      "metadata": {
        "id": "lIlfG-ATzgOr",
        "colab_type": "text"
      },
      "source": [
        "Faça um programa que pergunte o preço de 5 produtos e informe qual produto você deve comprar, sabendo que a decisão é sempre pelo mais barato."
      ]
    },
    {
      "cell_type": "code",
      "metadata": {
        "id": "-y4pB6br0DD_",
        "colab_type": "code",
        "colab": {
          "base_uri": "https://localhost:8080/",
          "height": 115
        },
        "outputId": "5a431d88-3261-4d96-c8eb-e17960583ced"
      },
      "source": [
        "preço1=float(input(\"Digite o valor do primeiro produto: \"))\n",
        "preço2=float(input(\"Digite o valor do segundo produto: \"))\n",
        "preço3=float(input(\"Digite o valor do terceiro produto: \"))\n",
        "preço4=float(input(\"Digite o valor do quarto produto: \"))\n",
        "preço5=float(input(\"Digite o valor do quinto produto: \"))\n",
        "\n",
        "if preço1<preço2 and preço1<preço3 and preço1<preço4 and preço1<preço5:\n",
        "  print(f\"Como você está sem grana, o mais aconselhável é você comprar o produto de preço R$ {preço1}\")\n",
        "elif preço2<preço1 and preço2<preço3 and preço2<preço4 and preço2<preço5:\n",
        "  print(f\"Como você está sem grana, o mais aconselhável é você comprar o produto de preço R$ {preço2}\")\n",
        "elif preço3<preço1 and preço3<preço2 and preço3<preço4 and preço3<preço5:\n",
        "  print(f\"Como você está sem grana, o mais aconselhável é você comprar o produto de preço R$ {preço3}\")\n",
        "elif preço4<preço1 and preço4<preço2 and preço4<preço3 and preço4<preço5:\n",
        "  print(f\"Como você está sem grana, o mais aconselhável é você comprar o produto de preço R$ {preço4}\")\n",
        "else:\n",
        "  print(f\"Como você está sem grana, o mais aconselhável é você comprar o produto de preço R$ {preço5}\")\n",
        "\n",
        "\n",
        "\n",
        "\n",
        "\n"
      ],
      "execution_count": 21,
      "outputs": [
        {
          "output_type": "stream",
          "text": [
            "Digite o valor do primeiro produto: 2\n",
            "Digite o valor do segundo produto: 3\n",
            "Digite o valor do terceiro produto: 4\n",
            "Digite o valor do quarto produto: 5\n",
            "Digite o valor do quinto produto: 1\n",
            "Como você está sem grana, o mais aconselhável é você comprar o produto de preço R$ 1.0\n"
          ],
          "name": "stdout"
        }
      ]
    },
    {
      "cell_type": "markdown",
      "metadata": {
        "id": "Vj4OXsJQziu_",
        "colab_type": "text"
      },
      "source": [
        "Crie um algoritmo em Python que leia três números e mostre-os em ordem decrescente."
      ]
    },
    {
      "cell_type": "code",
      "metadata": {
        "id": "RmApGpg30D00",
        "colab_type": "code",
        "colab": {
          "base_uri": "https://localhost:8080/",
          "height": 82
        },
        "outputId": "ed38c2fd-8985-4bda-d000-81cf20ee5fbf"
      },
      "source": [
        "x=float(input(\"Digite um número: \"))\n",
        "y=float(input(\"Digite outro número: \"))\n",
        "z=float(input(\"Digite mais um número: \"))\n",
        "aux=0\n",
        "if x<y:\n",
        "  aux=x\n",
        "  x=y\n",
        "  y=aux\n",
        "if x<z:\n",
        "  aux=x\n",
        "  x=z\n",
        "  z=aux\n",
        "if y<z:\n",
        "  aux=y\n",
        "  y=z\n",
        "  z=aux\n",
        "print(f\"Os números em ordem decrescente são {x}, {y} e {z}\")"
      ],
      "execution_count": 27,
      "outputs": [
        {
          "output_type": "stream",
          "text": [
            "Digite um número: 3\n",
            "Digite outro número: 2\n",
            "Digite mais um número: 1\n",
            "Os números em ordem decrescente são 3.0, 2.0 e 1.0\n"
          ],
          "name": "stdout"
        }
      ]
    },
    {
      "cell_type": "markdown",
      "metadata": {
        "id": "e7id8Ewgzlow",
        "colab_type": "text"
      },
      "source": [
        "As Organizações Mendéz resolveram dar um aumento de salário aos seus colaboradores e lhe contraram para desenvolver o programa que calculará os reajustes em Python. Faça um programa que receba o salário de um colaborador e o reajuste segundo o seguinte critério, baseado no salário atual:\n",
        "\n",
        "* salários entre 680,00 e 800,00 : aumento de 15%<br>\n",
        "* salários entre 800,00 e 2500,00 : aumento de 10%<br>\n",
        "* salários de 2500,00 em diante : aumento de 5% após o aumento ser realizado.\n",
        "\n",
        "Informe na tela:\n",
        "* o salário antes do reajuste;\n",
        "* o percentual de aumento aplicado;\n",
        "* o valor do aumento;\n",
        "* o novo salário, após o aumento."
      ]
    },
    {
      "cell_type": "code",
      "metadata": {
        "id": "Kl0ainsv0Eif",
        "colab_type": "code",
        "colab": {
          "base_uri": "https://localhost:8080/",
          "height": 98
        },
        "outputId": "db66d1c9-8452-47c5-9a13-a7ab73183041"
      },
      "source": [
        "salario=float(input(\"Digite o valor do salario atual: \"))\n",
        "percentual_aplicado=0\n",
        "if salario>=680 and salario<800:\n",
        "  percentual_aplicado=0.15\n",
        "elif salario>=800 and salario<2500:\n",
        "  percentual_aplicado=0.10\n",
        "elif salario>=2500:\n",
        "  percentual_aplicado=0.05\n",
        "print(f\"Seu salário atual é R$ {salario:.2f}.\\nO percentual de aumento aplicado foi de {percentual_aplicado*100:.0f}%.\\nO valor do aumento foi de R$ {salario*percentual_aplicado:.2f}.\\nO novo salário é R$ {salario*(1+percentual_aplicado):.2f}.\")"
      ],
      "execution_count": 38,
      "outputs": [
        {
          "output_type": "stream",
          "text": [
            "Digite o valor do salario atual: 2600\n",
            "Seu salário atual é R$ 2600.00.\n",
            "O percentual de aumento aplicado foi de 5%.\n",
            "O valor do aumento foi de R$ 130.00.\n",
            "O novo salário é R$ 2730.00.\n"
          ],
          "name": "stdout"
        }
      ]
    }
  ]
}