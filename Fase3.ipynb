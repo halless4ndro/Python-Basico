{
  "nbformat": 4,
  "nbformat_minor": 0,
  "metadata": {
    "colab": {
      "name": "Fase3.ipynb",
      "provenance": [],
      "include_colab_link": true
    },
    "kernelspec": {
      "name": "python3",
      "display_name": "Python 3"
    }
  },
  "cells": [
    {
      "cell_type": "markdown",
      "metadata": {
        "id": "view-in-github",
        "colab_type": "text"
      },
      "source": [
        "<a href=\"https://colab.research.google.com/github/halless4ndro/Python-Basico/blob/master/Fase3.ipynb\" target=\"_parent\"><img src=\"https://colab.research.google.com/assets/colab-badge.svg\" alt=\"Open In Colab\"/></a>"
      ]
    },
    {
      "cell_type": "markdown",
      "metadata": {
        "id": "CYNAmoj4zSXl",
        "colab_type": "text"
      },
      "source": [
        "Crie um algoritmo em Python que peça uma nota, entre zero e 100. Mostre uma mensagem caso o valor seja inválido e continue pedindo até que o usuário informe um valor válido."
      ]
    },
    {
      "cell_type": "code",
      "metadata": {
        "id": "ViAfpy3GzPN-",
        "colab_type": "code",
        "colab": {
          "base_uri": "https://localhost:8080/",
          "height": 98
        },
        "outputId": "d6a3492b-e1e8-4587-a281-e112e4c598f2"
      },
      "source": [
        "while True:\n",
        "  try:\n",
        "    x=float(input(\"Digite um número entre 0 e 100: \"))\n",
        "    if x>=0 and x<=100:\n",
        "      break\n",
        "    else:\n",
        "      print(\"Valor inválido. Tente novamente\")\n",
        "  except:\n",
        "    print(\"Isso nem parece um número. Tente novamente\")\n",
        "\n"
      ],
      "execution_count": null,
      "outputs": [
        {
          "output_type": "stream",
          "text": [
            "Digite um número entre 0 e 100: 105\n",
            "Valor inválido. Tente novamente\n",
            "Digite um número entre 0 e 100: oi\n",
            "Isso nem parece um número. Tente novamente\n",
            "Digite um número entre 0 e 100: 99\n"
          ],
          "name": "stdout"
        }
      ]
    },
    {
      "cell_type": "markdown",
      "metadata": {
        "id": "gdMis92izSmQ",
        "colab_type": "text"
      },
      "source": [
        "Crie um algoritmo em Python que leia um nome de usuário e a sua senha e não aceite a senha igual ao nome do usuário, mostrando uma mensagem de erro e voltando a pedir as informações.<br>"
      ]
    },
    {
      "cell_type": "code",
      "metadata": {
        "id": "BFpWkdCBz_zh",
        "colab_type": "code",
        "colab": {
          "base_uri": "https://localhost:8080/",
          "height": 50
        },
        "outputId": "6abfc387-0fa9-4b2f-c6da-76f54c266ae0"
      },
      "source": [
        "while True:\n",
        "  usuario=input(\"Digite um nome de usuário: \")\n",
        "  senha=input(\"Digite uma senha: \")\n",
        "  if senha!=usuario:\n",
        "    break\n",
        "  else:\n",
        "    print(\"Usuário e senha não podem ser iguais. Tente novamente.\")\n",
        "\n"
      ],
      "execution_count": null,
      "outputs": [
        {
          "output_type": "stream",
          "text": [
            "Digite um nome de usuário: usuario1\n",
            "Digite uma senha: @#$\n"
          ],
          "name": "stdout"
        }
      ]
    },
    {
      "cell_type": "markdown",
      "metadata": {
        "id": "E_0l_Vx6zSo2",
        "colab_type": "text"
      },
      "source": [
        "Crie um algoritmo em Python que leia e valide as seguintes informações:\n",
        "* Nome: maior que 3 caracteres;\n",
        "* Idade: entre 0 e 150;\n",
        "* Salário: maior que zero;\n",
        "* Sexo: 'f' ou 'm';\n",
        "* Estado Civil: 's', 'c', 'v', 'd';"
      ]
    },
    {
      "cell_type": "code",
      "metadata": {
        "id": "KwJf7XZS0AZW",
        "colab_type": "code",
        "colab": {
          "base_uri": "https://localhost:8080/",
          "height": 180
        },
        "outputId": "f7734202-6f3c-4f71-a04c-6e18d4da1a96"
      },
      "source": [
        "dados=[]\n",
        "while True:\n",
        "  dados.append(input(\"Digite seu nome: \"))\n",
        "  if len(dados[0])>=3:\n",
        "    break\n",
        "  else:\n",
        "    dados.pop()\n",
        "    print(\"O nome deve possuir no mínimo 3 caracteres\")\n",
        "while True:\n",
        "  try:\n",
        "    dados.append(int(input(\"Digite sua idade: \")))\n",
        "    if dados[1]>=0 and dados[1]<=150:\n",
        "      break\n",
        "    else:\n",
        "      dados.pop()\n",
        "      print(\"Valor inválido. Digite um valor entre 0 e 150\")\n",
        "  except:\n",
        "    print(\"Valor inválido. Digite um valor inteiro entre 0 e 150\")\n",
        "while True:\n",
        "  try:\n",
        "    dados.append(float(input(\"Digite o valor de seu salário: \")))\n",
        "    if dados[2]>=0:\n",
        "      break\n",
        "    else:\n",
        "      dados.pop()\n",
        "      print(\"O salário não pode ser negativo\")\n",
        "  except:\n",
        "    print(\"Valor inválido. Tente Novamente\")\n",
        "sexos=[\"M\",\"F\",\"m\",\"f\"]\n",
        "while True:\n",
        "  dados.append(input(\"Digite seu sexo (ex: m, f): \"))\n",
        "  if dados[3] in sexos:\n",
        "    break\n",
        "  else:\n",
        "    dados.pop()\n",
        "    print(\"Valor inválido. Informe m para masculino e f para feminino.\")\n",
        "estados_civis=[\"s\",\"S\",\"c\",\"C\",\"d\",\"D\",\"v\",\"V\"]\n",
        "while True:\n",
        "  dados.append(input(\"Informe seu estado civil: \"))\n",
        "  if dados[4] in estados_civis:\n",
        "    break\n",
        "  else:\n",
        "    dados.pop()\n",
        "    print(\"Valor inválido. Informe s,c,d ou v para solteiro, casado, divorciado ou viúvo, repectivamente.\")\n",
        "\n",
        "print(f\"Nome: {dados[0]}\\nIdade: {dados[1]}\\nSálario R$ {dados[2]:.2f}\\nSexo: {dados[3]}\\nEstado civil: {dados[4]}\")\n",
        "\n",
        "\n",
        "\n"
      ],
      "execution_count": null,
      "outputs": [
        {
          "output_type": "stream",
          "text": [
            "Digite seu nome: halle\n",
            "Digite sua idade: 33\n",
            "Digite o valor de seu salário: 10000\n",
            "Digite seu sexo (ex: m, f): m\n",
            "Informe seu estado civil: s\n",
            "Nome: halle\n",
            "Idade: 33\n",
            "Sálario R$ 10000.00\n",
            "Sexo: m\n",
            "Estado civil: s\n"
          ],
          "name": "stdout"
        }
      ]
    },
    {
      "cell_type": "markdown",
      "metadata": {
        "id": "1i4VCiiczSrL",
        "colab_type": "text"
      },
      "source": [
        "Supondo que a população de um país A seja da ordem de 80000 habitantes com uma taxa anual de crescimento de 3% e que a população de B seja 200000 habitantes com uma taxa de crescimento de 1.5%.<br><br> Crie um algoritmo em Python que calcule e escreva o número de anos necessários para que a população do país A ultrapasse ou iguale a população do país B, mantidas as taxas de crescimento."
      ]
    },
    {
      "cell_type": "code",
      "metadata": {
        "id": "yoW67hjA0BHy",
        "colab_type": "code",
        "colab": {
          "base_uri": "https://localhost:8080/",
          "height": 1000
        },
        "outputId": "623252ff-e7ec-4283-e498-577d644d48be"
      },
      "source": [
        "populacao_A=80000\n",
        "populacao_B=200000\n",
        "txA=0.03\n",
        "txB=0.015\n",
        "anos=0\n",
        "while True:\n",
        "  anos+=1\n",
        "  populacao_A*=1+txA\n",
        "  populacao_B*=1+txB\n",
        "  print(f\"Ano {anos} - População A: {populacao_A:.0f}. População B: {populacao_B:.0f}.\")\n",
        "  if populacao_A>populacao_B:\n",
        "    print(f\"A população do País A ultrapassa a do País B em {anos} anos\")\n",
        "    break\n",
        "    \n"
      ],
      "execution_count": null,
      "outputs": [
        {
          "output_type": "stream",
          "text": [
            "Ano 1 - População A: 82400. População B: 203000.\n",
            "Ano 2 - População A: 84872. População B: 206045.\n",
            "Ano 3 - População A: 87418. População B: 209136.\n",
            "Ano 4 - População A: 90041. População B: 212273.\n",
            "Ano 5 - População A: 92742. População B: 215457.\n",
            "Ano 6 - População A: 95524. População B: 218689.\n",
            "Ano 7 - População A: 98390. População B: 221969.\n",
            "Ano 8 - População A: 101342. População B: 225299.\n",
            "Ano 9 - População A: 104382. População B: 228678.\n",
            "Ano 10 - População A: 107513. População B: 232108.\n",
            "Ano 11 - População A: 110739. População B: 235590.\n",
            "Ano 12 - População A: 114061. População B: 239124.\n",
            "Ano 13 - População A: 117483. População B: 242710.\n",
            "Ano 14 - População A: 121007. População B: 246351.\n",
            "Ano 15 - População A: 124637. População B: 250046.\n",
            "Ano 16 - População A: 128377. População B: 253797.\n",
            "Ano 17 - População A: 132228. População B: 257604.\n",
            "Ano 18 - População A: 136195. População B: 261468.\n",
            "Ano 19 - População A: 140280. População B: 265390.\n",
            "Ano 20 - População A: 144489. População B: 269371.\n",
            "Ano 21 - População A: 148824. População B: 273412.\n",
            "Ano 22 - População A: 153288. População B: 277513.\n",
            "Ano 23 - População A: 157887. População B: 281675.\n",
            "Ano 24 - População A: 162624. População B: 285901.\n",
            "Ano 25 - População A: 167502. População B: 290189.\n",
            "Ano 26 - População A: 172527. População B: 294542.\n",
            "Ano 27 - População A: 177703. População B: 298960.\n",
            "Ano 28 - População A: 183034. População B: 303444.\n",
            "Ano 29 - População A: 188525. População B: 307996.\n",
            "Ano 30 - População A: 194181. População B: 312616.\n",
            "Ano 31 - População A: 200006. População B: 317305.\n",
            "Ano 32 - População A: 206007. População B: 322065.\n",
            "Ano 33 - População A: 212187. População B: 326896.\n",
            "Ano 34 - População A: 218552. População B: 331799.\n",
            "Ano 35 - População A: 225109. População B: 336776.\n",
            "Ano 36 - População A: 231862. População B: 341828.\n",
            "Ano 37 - População A: 238818. População B: 346955.\n",
            "Ano 38 - População A: 245983. População B: 352160.\n",
            "Ano 39 - População A: 253362. População B: 357442.\n",
            "Ano 40 - População A: 260963. População B: 362804.\n",
            "Ano 41 - População A: 268792. População B: 368246.\n",
            "Ano 42 - População A: 276856. População B: 373769.\n",
            "Ano 43 - População A: 285161. População B: 379376.\n",
            "Ano 44 - População A: 293716. População B: 385067.\n",
            "Ano 45 - População A: 302528. População B: 390843.\n",
            "Ano 46 - População A: 311603. População B: 396705.\n",
            "Ano 47 - População A: 320952. População B: 402656.\n",
            "Ano 48 - População A: 330580. População B: 408696.\n",
            "Ano 49 - População A: 340498. População B: 414826.\n",
            "Ano 50 - População A: 350712. População B: 421048.\n",
            "Ano 51 - População A: 361234. População B: 427364.\n",
            "Ano 52 - População A: 372071. População B: 433775.\n",
            "Ano 53 - População A: 383233. População B: 440281.\n",
            "Ano 54 - População A: 394730. População B: 446886.\n",
            "Ano 55 - População A: 406572. População B: 453589.\n",
            "Ano 56 - População A: 418769. População B: 460393.\n",
            "Ano 57 - População A: 431332. População B: 467299.\n",
            "Ano 58 - População A: 444272. População B: 474308.\n",
            "Ano 59 - População A: 457600. População B: 481423.\n",
            "Ano 60 - População A: 471328. População B: 488644.\n",
            "Ano 61 - População A: 485468. População B: 495974.\n",
            "Ano 62 - População A: 500032. População B: 503413.\n",
            "Ano 63 - População A: 515033. População B: 510964.\n",
            "A população do País A ultrapassa a do País B em 63 anos\n"
          ],
          "name": "stdout"
        }
      ]
    },
    {
      "cell_type": "markdown",
      "metadata": {
        "id": "4ep7kezvzStO",
        "colab_type": "text"
      },
      "source": [
        "Desenvolva um gerador de tabuada, capaz de gerar a tabuada de qualquer número inteiro entre 1 a 10. O usuário deve informar de qual numero ele deseja ver a tabuada. A saída deve ser conforme o exemplo abaixo:\n",
        "Tabuada de 5:<br>\n",
        "5 X 1 = 5<br>\n",
        "5 X 2 = 10<br>\n",
        "...<br>\n",
        "5 X 10 = 50<br>"
      ]
    },
    {
      "cell_type": "code",
      "metadata": {
        "id": "6K6IHWdr0Blt",
        "colab_type": "code",
        "colab": {
          "base_uri": "https://localhost:8080/",
          "height": 310
        },
        "outputId": "457fb705-d354-430d-ef3e-4bc32760abd3"
      },
      "source": [
        "while True:\n",
        "  try:\n",
        "    num=int(input(\"Você deseja a tabuada de qual número: \"))\n",
        "    if num>=0 and num<=10:\n",
        "      for x in range(11):\n",
        "        print(f\"{num} X {x} = {num*x}\")\n",
        "      break\n",
        "    else:\n",
        "      print(\"Digite um valor entre 0 e 10. Tente novamente.\")\n",
        "  except:\n",
        "    print(\"Digite um valor válido. Tente novamente.\")\n",
        "  \n",
        "\n"
      ],
      "execution_count": null,
      "outputs": [
        {
          "output_type": "stream",
          "text": [
            "Você deseja a tabuada de qual número: oi\n",
            "Digite um valor válido. Tente novamente.\n",
            "Você deseja a tabuada de qual número: 1.7\n",
            "Digite um valor válido. Tente novamente.\n",
            "Você deseja a tabuada de qual número: 11\n",
            "Digite um valor entre 0 e 10. Tente novamente.\n",
            "Você deseja a tabuada de qual número: 9\n",
            "9 X 0 = 0\n",
            "9 X 1 = 9\n",
            "9 X 2 = 18\n",
            "9 X 3 = 27\n",
            "9 X 4 = 36\n",
            "9 X 5 = 45\n",
            "9 X 6 = 54\n",
            "9 X 7 = 63\n",
            "9 X 8 = 72\n",
            "9 X 9 = 81\n",
            "9 X 10 = 90\n"
          ],
          "name": "stdout"
        }
      ]
    },
    {
      "cell_type": "markdown",
      "metadata": {
        "id": "u6__NaXqzeYg",
        "colab_type": "text"
      },
      "source": [
        "Crie um algoritmo em Python que leia três números e mostre o maior e o menor deles."
      ]
    },
    {
      "cell_type": "code",
      "metadata": {
        "id": "mm2L7g3x0Cfx",
        "colab_type": "code",
        "colab": {
          "base_uri": "https://localhost:8080/",
          "height": 131
        },
        "outputId": "185eb7b1-0993-4b6b-8f01-6d79386060c6"
      },
      "source": [
        "lista=[]\n",
        "while True:\n",
        "  try:\n",
        "    lista.append(float(input(\"Digite um número: \")))\n",
        "    if len(lista)==3:\n",
        "      break\n",
        "  except: \n",
        "    print(\"Valor inválido. Tente novamente.\")\n",
        "print(f\"Os números digitados foram {lista[0]}, {lista[1]} e {lista[2]}.\\nO maior deles é {max(lista)} e o menor é {min(lista)}\")\n",
        "\n",
        "\n",
        "\n"
      ],
      "execution_count": null,
      "outputs": [
        {
          "output_type": "stream",
          "text": [
            "Digite um número: 78\n",
            "Digite um número: oi\n",
            "Valor inválido. Tente novamente.\n",
            "Digite um número: 1.7\n",
            "Digite um número: -15\n",
            "Os números digitados foram 78.0, 1.7 e -15.0.\n",
            "O maior deles é 78.0 e o menor é -15.0\n"
          ],
          "name": "stdout"
        }
      ]
    },
    {
      "cell_type": "markdown",
      "metadata": {
        "id": "lIlfG-ATzgOr",
        "colab_type": "text"
      },
      "source": [
        "Crie um algoritmo em Python que peça 2 números, base e expoente, calcule e mostre o primeiro número elevado ao segundo número. Não utilize a função de potência da linguagem."
      ]
    },
    {
      "cell_type": "code",
      "metadata": {
        "id": "-y4pB6br0DD_",
        "colab_type": "code",
        "colab": {
          "base_uri": "https://localhost:8080/",
          "height": 82
        },
        "outputId": "cb6874fc-c6ec-4c57-952a-0ca8fd74a5db"
      },
      "source": [
        "print(\"Cálcule a Potência\")\n",
        "while True:\n",
        "  try:\n",
        "    base=float(input(\"Digite a base da potência: \"))\n",
        "    potencia=float(input(\"Digite a potência: \"))\n",
        "  except:\n",
        "    print(\"Valores inválidos. Informe os valores novamente\")\n",
        "  else:\n",
        "    break\n",
        "\n",
        "print(f\"({base}) ^ ({potencia}) = {base**potencia}\")\n",
        "\n",
        "\n"
      ],
      "execution_count": null,
      "outputs": [
        {
          "output_type": "stream",
          "text": [
            "Cálcule a Potência\n",
            "Digite a base da potência: 5\n",
            "Digite a potência: -2\n",
            "(5.0) ^ (-2.0) = 0.04\n"
          ],
          "name": "stdout"
        }
      ]
    },
    {
      "cell_type": "markdown",
      "metadata": {
        "id": "Vj4OXsJQziu_",
        "colab_type": "text"
      },
      "source": [
        "Crie um algoritmo em Python que peça 10 números inteiros, calcule e mostre a quantidade de números pares e a quantidade de números impares."
      ]
    },
    {
      "cell_type": "code",
      "metadata": {
        "id": "RmApGpg30D00",
        "colab_type": "code",
        "colab": {
          "base_uri": "https://localhost:8080/",
          "height": 228
        },
        "outputId": "6073f7b7-41ec-4b21-c886-deb632a1cb9c"
      },
      "source": [
        "lista=[\"primeiro\",\"segundo\",\"terceiro\",\"quarto\",\"quinto\",\"sexto\",\"sétimo\",\"oitavo\",\"nono\",\"décimo\"]\n",
        "lista_num=[]\n",
        "lista_pares=[]\n",
        "lista_impares=[]\n",
        "pos=0\n",
        "while True:\n",
        "  try:\n",
        "    lista_num.append(int(input(f\"Digite o {lista[pos]} número: \")))\n",
        "    if len(lista_num)==10:\n",
        "      break\n",
        "  except:\n",
        "    print(\"Valor inválido. Tente novamente\")\n",
        "  else:\n",
        "    pos+=1\n",
        "for i in range(10):\n",
        "  if lista_num[i]%2==0:\n",
        "    lista_pares.append(lista_num[i])\n",
        "  else:\n",
        "    lista_impares.append(lista_num[i])\n",
        "print(f\"Numeros digitados: {lista_num}\\nNúmeros pares: {lista_pares}\\nNúmeros Ímpares: {lista_impares}\")\n",
        "\n",
        "\n",
        "\n"
      ],
      "execution_count": null,
      "outputs": [
        {
          "output_type": "stream",
          "text": [
            "Digite o primeiro número: 1\n",
            "Digite o segundo número: 2\n",
            "Digite o terceiro número: 3\n",
            "Digite o quarto número: 4\n",
            "Digite o quinto número: 5\n",
            "Digite o sexto número: 6\n",
            "Digite o sétimo número: 7\n",
            "Digite o oitavo número: 8\n",
            "Digite o nono número: 9\n",
            "Digite o décimo número: 10\n",
            "Numeros digitados: [1, 2, 3, 4, 5, 6, 7, 8, 9, 10]\n",
            "Números pares: [2, 4, 6, 8, 10]\n",
            "Números Ímpares: [1, 3, 5, 7, 9]\n"
          ],
          "name": "stdout"
        }
      ]
    },
    {
      "cell_type": "markdown",
      "metadata": {
        "id": "e7id8Ewgzlow",
        "colab_type": "text"
      },
      "source": [
        "Um funcionário de uma empresa recebe aumento salarial anualmente: Sabe-se que:\n",
        "Esse funcionário foi contratado em 1995, com salário inicial de R$ 1.000,00;\n",
        "Em 1996 recebeu aumento de 1,5% sobre seu salário inicial;\n",
        "A partir de 1997 (inclusive), os aumentos salariais sempre correspondem ao dobro do percentual do ano anterior. Crie um algoritmo em Python que determine o salário atual desse funcionário. Após concluir isto, altere o programa permitindo que o usuário digite o salário inicial do funcionário."
      ]
    },
    {
      "cell_type": "code",
      "metadata": {
        "id": "Kl0ainsv0Eif",
        "colab_type": "code",
        "colab": {
          "base_uri": "https://localhost:8080/",
          "height": 505
        },
        "outputId": "a93a2cc6-ce86-48a8-c162-6dd7fa0589c2"
      },
      "source": [
        "while True:\n",
        "  try:\n",
        "    salario=float(input(\"Digite o valor inicial do salário: \"))\n",
        "    if salario>=0:\n",
        "      break\n",
        "  except:\n",
        "    print(\"Isso não parece ser um salário. Digite um valor válido\")\n",
        "  else:\n",
        "    print(\"Digite um valor positivo\")\n",
        "multiplicador=1\n",
        "for i in range(1996,2021):\n",
        "  salario*=1+multiplicador*0.015\n",
        "  print(f\"Ano {i} - salário R$ {salario:.2f}\")\n",
        "  multiplicador*=2\n",
        "\n"
      ],
      "execution_count": null,
      "outputs": [
        {
          "output_type": "stream",
          "text": [
            "Digite o valor inicial do salário: oi\n",
            "Isso não parece ser um salário. Digite um valor válido\n",
            "Digite o valor inicial do salário: -1000\n",
            "Digite um valor positivo\n",
            "Digite o valor inicial do salário: 1000\n",
            "Ano 1996 - salário R$ 1015.00\n",
            "Ano 1997 - salário R$ 1045.45\n",
            "Ano 1998 - salário R$ 1108.18\n",
            "Ano 1999 - salário R$ 1241.16\n",
            "Ano 2000 - salário R$ 1539.04\n",
            "Ano 2001 - salário R$ 2277.77\n",
            "Ano 2002 - salário R$ 4464.44\n",
            "Ano 2003 - salário R$ 13036.15\n",
            "Ano 2004 - salário R$ 63094.98\n",
            "Ano 2005 - salário R$ 547664.47\n",
            "Ano 2006 - salário R$ 8959790.69\n",
            "Ano 2007 - salário R$ 284204560.82\n",
            "Ano 2008 - salário R$ 17745732777.31\n",
            "Ano 2009 - salário R$ 2198341376453.00\n",
            "Ano 2010 - salário R$ 542462718053542.06\n",
            "Ano 2011 - salário R$ 267173737895730528.00\n",
            "Ano 2012 - salário R$ 262909645038914666496.00\n",
            "Ano 2013 - salário R$ 517164304563148244910080.00\n",
            "Ano 2014 - salário R$ 2034089956135592080204365824.00\n",
            "Ano 2015 - salário R$ 15998768413792394281488683630592.00\n",
            "Ano 2016 - salário R$ 251654867592325396987276632919113728.00\n",
            "Ano 2017 - salário R$ 7916629288082298418272104051247446753280.00\n",
            "Ano 2018 - salário R$ 498079164972099073044506102424224350991286272.00\n",
            "Ano 2019 - salário R$ 62673361097939015974588452007553794415875760062464.00\n",
            "Ano 2020 - salário R$ 15772330422152896713036863368953619989314421505159856128.00\n"
          ],
          "name": "stdout"
        }
      ]
    },
    {
      "cell_type": "markdown",
      "metadata": {
        "id": "5u9i4kzm-itX",
        "colab_type": "text"
      },
      "source": [
        "Crie um algoritmo em Python com uma função que necessite de um argumento. A função retorna o valor de caractere ‘P’, se seu argumento for positivo, e ‘N’, se seu argumento for zero ou negativo."
      ]
    },
    {
      "cell_type": "code",
      "metadata": {
        "id": "WNt8CLa2-rGt",
        "colab_type": "code",
        "colab": {
          "base_uri": "https://localhost:8080/",
          "height": 50
        },
        "outputId": "f504d65a-17cf-4d29-cf97-3c7e398ab055"
      },
      "source": [
        "def positividade(num):\n",
        "  if num>0:\n",
        "    return \"P\"\n",
        "  else:\n",
        "    return \"N\"\n",
        "\n",
        "print(positividade(5))\n",
        "print(positividade(0))"
      ],
      "execution_count": null,
      "outputs": [
        {
          "output_type": "stream",
          "text": [
            "P\n",
            "N\n"
          ],
          "name": "stdout"
        }
      ]
    },
    {
      "cell_type": "markdown",
      "metadata": {
        "id": "CHiYMSOJ-rSY",
        "colab_type": "text"
      },
      "source": [
        "Construa uma função que receba uma data no formato DD/MM/AAAA e devolva uma string no formato D de mesPorExtenso de AAAA. Opcionalmente, valide a data e retorne NULL caso a data seja inválida."
      ]
    },
    {
      "cell_type": "code",
      "metadata": {
        "id": "gujigF--pvmA",
        "colab_type": "code",
        "colab": {}
      },
      "source": [
        ""
      ],
      "execution_count": null,
      "outputs": []
    },
    {
      "cell_type": "code",
      "metadata": {
        "id": "6Ukxx6gQ-r4-",
        "colab_type": "code",
        "colab": {
          "base_uri": "https://localhost:8080/",
          "height": 196
        },
        "outputId": "0bf1cd21-d91a-4bcd-c19e-294ac45aa4ab"
      },
      "source": [
        "def conversão(data):\n",
        "  if len(data)!=10:\n",
        "    return None\n",
        "  if data[2]!=\"/\" or data[5]!=\"/\":\n",
        "    return None\n",
        "  if not (str.isnumeric(data[0:2]) and str.isnumeric(data[3:5]) and str.isnumeric(data[6:])):\n",
        "    return None\n",
        "  dia=int(data[0])*10+int(data[1])\n",
        "  mês=int(data[3])*10+int(data[4])\n",
        "  ano=int(data[6])*1000+int(data[7])*100+int(data[8])*10+int(data[9])\n",
        "  bissexto=False\n",
        "  if ano%4==0:\n",
        "    bissexto=True\n",
        "  if mês>12:\n",
        "    return None\n",
        "  if dia>31:\n",
        "    return None\n",
        "  if (mês==2 or mês==4 or mês==6 or mês==9 or mês==11) and dia==31:\n",
        "    return None\n",
        "  if mês==2 and dia==30:\n",
        "    return None\n",
        "  if mês==2 and dia==29 and bissexto==False:\n",
        "    return None\n",
        "  meses=[\"janeiro\",\"fevereiro\",\"março\",\"abril\",\"maio\",\"junho\",\"julho\",\"agosto\",\"setembro\",\"outubro\",\"novembro\",\"dezembro\"]\n",
        "  if ano<1000:\n",
        "    return f\"{dia} de {meses[mês-1]} do ano {ano}\"\n",
        "  else:\n",
        "    return f\"{dia} de {meses[mês-1]} de {ano}\"\n",
        "\n",
        "print(conversão(\"abcdefghij\")) \n",
        "print(conversão(\"abcdefghijk\"))\n",
        "print(conversão(\"1234567890\"))\n",
        "print(conversão(\"10/11@1986\"))\n",
        "print(conversão(\"10/11/1986\"))\n",
        "print(conversão(\"10/13/1986\"))\n",
        "print(conversão(\"32/11/1986\"))\n",
        "print(conversão(\"29/02/1988\"))\n",
        "print(conversão(\"29/02/1987\"))\n",
        "print(conversão(\"31/04/1987\"))\n",
        "print(conversão(\"01/01/0100\"))\n",
        "\n",
        "\n",
        "\n",
        "\n",
        "\n"
      ],
      "execution_count": null,
      "outputs": [
        {
          "output_type": "stream",
          "text": [
            "None\n",
            "None\n",
            "None\n",
            "None\n",
            "10 de novembro de 1986\n",
            "None\n",
            "None\n",
            "29 de fevereiro de 1988\n",
            "None\n",
            "None\n",
            "1 de janeiro do ano 100\n"
          ],
          "name": "stdout"
        }
      ]
    },
    {
      "cell_type": "markdown",
      "metadata": {
        "id": "AzUYbZ8A-zj7",
        "colab_type": "text"
      },
      "source": [
        "Crie uma classe que modele uma pessoa:<br>\n",
        "\n",
        "Atributos: nome, idade, peso e altura<br>\n",
        "Métodos: Envelhercer, engordar, emagrecer, crescer.<br>\n",
        "<br>Obs: Por padrão, a cada ano que nossa pessoa envelhece, sendo a idade dela menor que 21 anos, ela deve crescer 0,5 cm."
      ]
    },
    {
      "cell_type": "code",
      "metadata": {
        "id": "qobhV-FC-zRS",
        "colab_type": "code",
        "colab": {}
      },
      "source": [
        "class Pessoa:\n",
        "  def __init__(self,nome,idade,peso,altura):\n",
        "    self.nome=nome\n",
        "    self.idade=idade\n",
        "    self.peso=peso\n",
        "    self.altura=altura\n",
        "  def engordar(self,engordar):\n",
        "    self.peso+=engordar\n",
        "  def emagrecer(self,emagrecer):\n",
        "    self.peso-=emagrecer\n",
        "  def crescer(self,crescer):\n",
        "    self.altura+=crescer\n",
        "  def envelhecer(self,envelhecer):\n",
        "    if self.idade<21:\n",
        "      if self.idade+envelhecer<21:\n",
        "        self.crescer(envelher*0.5)\n",
        "      else:\n",
        "        self.crescer((self.idade+envelhecer-21)*0.5)\n",
        "    self.idade+=envelhecer\n",
        "\n",
        "\n",
        "    \n",
        "\n",
        "\n",
        "\n",
        "\n",
        "\n",
        "  "
      ],
      "execution_count": 25,
      "outputs": []
    }
  ]
}